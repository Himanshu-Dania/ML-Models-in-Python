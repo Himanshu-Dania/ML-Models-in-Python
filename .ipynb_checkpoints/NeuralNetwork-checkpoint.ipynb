{
 "cells": [
  {
   "cell_type": "code",
   "execution_count": 2,
   "id": "5880dec9",
   "metadata": {},
   "outputs": [],
   "source": [
    "import numpy as np"
   ]
  },
  {
   "cell_type": "code",
   "execution_count": null,
   "id": "b81b53f8",
   "metadata": {},
   "outputs": [],
   "source": [
    "class Model:\n",
    "    def __init__(self,X, y,hl, lr, niter, reg,nclass):\n",
    "        self.X=X\n",
    "        self.m,self.n=X.shape\n",
    "        self.y=y\n",
    "        self.hl=hl\n",
    "        self.lr=lr\n",
    "        self.niter=niter\n",
    "        self.reg=reg\n",
    "        self.nc=nclass\n",
    "        \n",
    "        \n",
    "    def sigmoid(self, z):\n",
    "        return 1/(1+np.exp(-z))\n",
    "    def sigmoidGradient(self,z):\n",
    "        return sigmoid(z)*(1-sigmoid(z))\n",
    "    \n",
    "    def hyp(self):\n",
    "        #lAYER1 X\n",
    "        self.X=np.concatenate((np.ones([m,1]), self.X), axis=1)\n",
    "        self.a1=self.sigmoid(np.dot(self.X, self.Theta1.T))\n",
    "        self.a1=np.concatenate((np.ones([m,1]), self.a1), axis=1)\n",
    "        self.h=self.sigmoid(np.dot(self.a1, self.Theta2.T))\n",
    "    def cost(self):\n",
    "        self.J = 1/(self.m) * ( np.sum(np.sum(-1*self.y* np.log(self.h) -1*(1-self.y)* np.log(1-self.h))))\n",
    "        self.J += self.reg/(2*self.m)*(np.sum(np.sum(np.square(self.Theta1[:,1:]))) + np.sum(np.sum(np.square(self.Theta2[:,1:]))))\n",
    "        z\n",
    "    def computeGradient(self):\n",
    "        \n",
    "        \n",
    "    def gradient_descent(self):\n",
    "        for i in range(self.niter):\n",
    "            self.cost()\n",
    "            self.computeGradient()\n",
    "            self.theta=self.theta - \n",
    "            if i%50==0:\n",
    "                print(f\"iteration {i}:\\n{self.theta} has cost {cost}\")\n",
    "        return self.theta\n",
    "    def train(self):\n",
    "        self.Theta1= np.random.rand(self.hl, self.n+1)\n",
    "        self.Theta2=np.random.rand(self.nc,self.hl+1)\n",
    "        \n",
    "        self.hyp()\n",
    "        self.gradient_descent()"
   ]
  },
  {
   "cell_type": "code",
   "execution_count": 17,
   "id": "fee81a43",
   "metadata": {},
   "outputs": [
    {
     "data": {
      "text/plain": [
       "array([[0.14077253, 0.33040162, 0.21703085, 0.52896328],\n",
       "       [0.64551817, 0.83893115, 0.49760088, 0.58289658],\n",
       "       [0.70600921, 0.49624942, 0.10438447, 0.11496317]])"
      ]
     },
     "execution_count": 17,
     "metadata": {},
     "output_type": "execute_result"
    }
   ],
   "source": [
    "X= np.array([[1,5,7,8],\n",
    "            [7,8,7,9],\n",
    "           [8,2,6,8],\n",
    "            [9,3,5,5],\n",
    "            [2,4,1,5]\n",
    "            ])\n",
    "m,n=X.shape\n",
    "hl=3\n",
    "nc=5\n",
    "Theta1=np.random.rand(hl,n+1)\n",
    "Theta1[:,1:]\n",
    "\n",
    "# one=np.ones([m,1])\n",
    "# np.concatenate((np.ones([m,1]), X), axis=1)\n",
    "# np.random.rand(7,6)\n"
   ]
  }
 ],
 "metadata": {
  "kernelspec": {
   "display_name": "Python 3 (ipykernel)",
   "language": "python",
   "name": "python3"
  },
  "language_info": {
   "codemirror_mode": {
    "name": "ipython",
    "version": 3
   },
   "file_extension": ".py",
   "mimetype": "text/x-python",
   "name": "python",
   "nbconvert_exporter": "python",
   "pygments_lexer": "ipython3",
   "version": "3.11.3"
  }
 },
 "nbformat": 4,
 "nbformat_minor": 5
}
