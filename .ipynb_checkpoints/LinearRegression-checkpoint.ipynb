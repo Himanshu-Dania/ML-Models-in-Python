{
 "cells": [
  {
   "cell_type": "code",
   "execution_count": 1,
   "id": "60e7c9b8",
   "metadata": {},
   "outputs": [],
   "source": [
    "import numpy as np"
   ]
  },
  {
   "cell_type": "code",
   "execution_count": 67,
   "id": "1967e95f",
   "metadata": {},
   "outputs": [],
   "source": [
    "class Model:\n",
    "    def __init__(self,X, y, theta, lr, niter, reg):\n",
    "        self.X=X\n",
    "        self.m,self.n=X.shape\n",
    "        self.y=y\n",
    "        self.theta=theta\n",
    "        self.lr=lr\n",
    "        self.niter=niter\n",
    "        self.reg=reg\n",
    "    \n",
    "    def hyp(self):\n",
    "        return np.dot(self.X,self.theta)\n",
    "    \n",
    "    def cost(self):\n",
    "        return 1/(2*self.m) * ( np.sum( np.square(self.hyp()-self.y)) + self.reg*np.sum(np.square(self.theta)))\n",
    "    \n",
    "    def gradient_descent(self):\n",
    "        for i in range(self.niter):\n",
    "            cost=self.cost()\n",
    "            self.theta=self.theta - self.lr/self.m * ( np.dot((self.X.T), self.hyp()-self.y) + self.reg*self.theta)\n",
    "            if i%50==0:\n",
    "                print(f\"iteration {i}:\\n{self.theta} has cost {cost}\")\n",
    "        return self.theta\n",
    "    def train(self):\n",
    "        return self.gradient_descent()"
   ]
  },
  {
   "cell_type": "code",
   "execution_count": 70,
   "id": "08813aa9",
   "metadata": {},
   "outputs": [
    {
     "name": "stdout",
     "output_type": "stream",
     "text": [
      "iteration 0:\n",
      "[[-3.298]\n",
      " [ 2.3  ]] has cost 26.54\n",
      "iteration 50:\n",
      "[[-3.15355817]\n",
      " [ 2.04599352]] has cost 0.03661541575517766\n",
      "iteration 100:\n",
      "[[-3.02880823]\n",
      " [ 2.00822227]] has cost 0.03310016733909403\n",
      "iteration 150:\n",
      "[[-2.95205509]\n",
      " [ 1.98498329]] has cost 0.03176950588957019\n",
      "iteration 200:\n",
      "[[-2.90483227]\n",
      " [ 1.97068537]] has cost 0.03126579756410807\n",
      "iteration 250:\n",
      "[[-2.87577815]\n",
      " [ 1.9618885 ]] has cost 0.031075123912871955\n",
      "iteration 300:\n",
      "[[-2.85790244]\n",
      " [ 1.95647616]] has cost 0.031002946346137556\n",
      "iteration 350:\n",
      "[[-2.8469043 ]\n",
      " [ 1.95314619]] has cost 0.030975624264109314\n",
      "iteration 400:\n",
      "[[-2.84013763]\n",
      " [ 1.95109741]] has cost 0.030965281768509472\n",
      "iteration 450:\n",
      "[[-2.83597439]\n",
      " [ 1.94983689]] has cost 0.030961366722243134\n",
      "iteration 500:\n",
      "[[-2.83341294]\n",
      " [ 1.94906134]] has cost 0.03095988472139339\n",
      "iteration 550:\n",
      "[[-2.83183699]\n",
      " [ 1.94858418]] has cost 0.030959323725080905\n",
      "iteration 600:\n",
      "[[-2.83086738]\n",
      " [ 1.94829061]] has cost 0.030959111365646236\n",
      "iteration 650:\n",
      "[[-2.83027082]\n",
      " [ 1.94810998]] has cost 0.03095903097914728\n",
      "iteration 700:\n",
      "[[-2.82990378]\n",
      " [ 1.94799885]] has cost 0.030959000549657636\n",
      "iteration 750:\n",
      "[[-2.82967796]\n",
      " [ 1.94793048]] has cost 0.030958989030884565\n",
      "iteration 800:\n",
      "[[-2.82953902]\n",
      " [ 1.94788841]] has cost 0.03095898467057047\n",
      "iteration 850:\n",
      "[[-2.82945354]\n",
      " [ 1.94786253]] has cost 0.03095898302001802\n",
      "iteration 900:\n",
      "[[-2.82940094]\n",
      " [ 1.94784661]] has cost 0.03095898239521821\n",
      "iteration 950:\n",
      "[[-2.82936859]\n",
      " [ 1.94783681]] has cost 0.03095898215870662\n",
      "[[-2.82934899]\n",
      " [ 1.94783088]]\n"
     ]
    }
   ],
   "source": [
    "a=np.array([[1,2],[1,4]])\n",
    "b=np.array([[1],[5]])\n",
    "t=np.array([[-4],[0]])\n",
    "m=Model(a,b,t, 0.1, 1000,0.01)\n",
    "# m.hyp()\n",
    "tf= m.train()\n",
    "print(f\"{tf}\")"
   ]
  },
  {
   "cell_type": "code",
   "execution_count": null,
   "id": "eb5be74b",
   "metadata": {},
   "outputs": [],
   "source": []
  }
 ],
 "metadata": {
  "kernelspec": {
   "display_name": "Python 3 (ipykernel)",
   "language": "python",
   "name": "python3"
  },
  "language_info": {
   "codemirror_mode": {
    "name": "ipython",
    "version": 3
   },
   "file_extension": ".py",
   "mimetype": "text/x-python",
   "name": "python",
   "nbconvert_exporter": "python",
   "pygments_lexer": "ipython3",
   "version": "3.11.3"
  }
 },
 "nbformat": 4,
 "nbformat_minor": 5
}
