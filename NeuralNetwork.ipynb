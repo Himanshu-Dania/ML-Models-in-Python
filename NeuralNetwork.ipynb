{
 "cells": [
  {
   "cell_type": "code",
   "execution_count": 4,
   "id": "5880dec9",
   "metadata": {},
   "outputs": [],
   "source": [
    "import numpy as np"
   ]
  },
  {
   "cell_type": "code",
   "execution_count": 30,
   "id": "b81b53f8",
   "metadata": {},
   "outputs": [],
   "source": [
    "class Model:\n",
    "    def __init__(self,X, y,hl, lr, niter, reg,nclass):\n",
    "        #hl=hidden layer size, lr=learning rate, niter=iterations of gradient descent, reg= regularization rate,nclass, number of classes in y\n",
    "        self.X=X\n",
    "        self.m,self.n=X.shape\n",
    "        self.y=y\n",
    "        self.hl=hl\n",
    "        self.lr=lr\n",
    "        self.niter=niter\n",
    "        self.reg=reg\n",
    "        self.nc=nclass\n",
    "        \n",
    "        \n",
    "    def sigmoid(self, z):\n",
    "        return 1/(1+np.exp(-z))\n",
    "    def sigmoidGradient(self,z):\n",
    "        return self.sigmoid(z)*(1-self.sigmoid(z))\n",
    "    \n",
    "    def hyp(self):\n",
    "        #lAYER1 X\n",
    "        self.X=np.concatenate((np.ones([self.m,1]), self.X), axis=1)\n",
    "        self.z1=self.X @ self.Theta1.T\n",
    "        self.a1=self.sigmoid(self.z1)\n",
    "        self.a1=np.concatenate((np.ones([self.m,1]), self.a1), axis=1)\n",
    "        self.z2=self.a1 @ self.Theta2.T\n",
    "        self.h=self.sigmoid(self.z2)\n",
    "    def cost(self):\n",
    "        self.J = 1/(self.m) * ( np.sum(np.sum(-1*self.y* np.log(self.h) -1*(1-self.y)* np.log(1-self.h))))\n",
    "        self.J += self.reg/(2*self.m)*(np.sum(np.sum(np.square(self.Theta1[:,1:]))) + np.sum(np.sum(np.square(self.Theta2[:,1:]))))\n",
    "        \n",
    "    def computeGradient(self):\n",
    "        t1=self.Theta1\n",
    "        t2=self.Theta2\n",
    "        t1[:,0]=0\n",
    "        t2[:,0]=0\n",
    "        self.del3=self.h-self.y;\n",
    "        self.del2= (self.del3@self.Theta2[:,1:]) *self.sigmoidGradient(self.z1)\n",
    "        self.Theta1_grad=(self.del2.T@self.a1)/self.m+self.reg/self.m * t1\n",
    "        self.Theta2_grad=(self.del3.T@self.a2)/self.m+self.rig/self.m*t2\n",
    "        \n",
    "    def gradient_descent(self):\n",
    "        for i in range(self.niter):\n",
    "            self.hyp()\n",
    "            self.cost()\n",
    "            self.computeGradient()\n",
    "            self.Theta1=self.Theta1 - self.lr/self.m*self.Theta1_grad\n",
    "            self.Theta2=self.Theta2 - self.lr/self.m*self.Theta2_grad\n",
    "            \n",
    "            if i%10==0:\n",
    "                print(f\"iteration {i}:\\n{self.theta} has cost {cost}\")\n",
    "        return self.theta\n",
    "    def train(self):\n",
    "        self.Theta1= np.random.rand(self.hl, self.n+1)\n",
    "        self.Theta2=np.random.rand(self.nc,self.hl+1)\n",
    "        \n",
    "        \n",
    "        self.gradient_descent()"
   ]
  },
  {
   "cell_type": "code",
   "execution_count": 31,
   "id": "fee81a43",
   "metadata": {},
   "outputs": [
    {
     "ename": "ValueError",
     "evalue": "matmul: Input operand 1 has a mismatch in its core dimension 0, with gufunc signature (n?,k),(k,m?)->(n?,m?) (size 4 is different from 5)",
     "output_type": "error",
     "traceback": [
      "\u001b[1;31m---------------------------------------------------------------------------\u001b[0m",
      "\u001b[1;31mValueError\u001b[0m                                Traceback (most recent call last)",
      "Cell \u001b[1;32mIn[31], line 20\u001b[0m\n\u001b[0;32m     16\u001b[0m \u001b[38;5;66;03m# one=np.ones([m,1])\u001b[39;00m\n\u001b[0;32m     17\u001b[0m \u001b[38;5;66;03m# np.concatenate((np.ones([m,1]), X), axis=1)\u001b[39;00m\n\u001b[0;32m     18\u001b[0m \u001b[38;5;66;03m# np.random.rand(7,6)\u001b[39;00m\n\u001b[0;32m     19\u001b[0m m\u001b[38;5;241m=\u001b[39mModel(X,y,hl,\u001b[38;5;241m0.01\u001b[39m,\u001b[38;5;241m100\u001b[39m,\u001b[38;5;241m0\u001b[39m,\u001b[38;5;241m3\u001b[39m)\n\u001b[1;32m---> 20\u001b[0m m\u001b[38;5;241m.\u001b[39mtrain()\n",
      "Cell \u001b[1;32mIn[30], line 56\u001b[0m, in \u001b[0;36mModel.train\u001b[1;34m(self)\u001b[0m\n\u001b[0;32m     52\u001b[0m \u001b[38;5;28mself\u001b[39m\u001b[38;5;241m.\u001b[39mTheta1\u001b[38;5;241m=\u001b[39m np\u001b[38;5;241m.\u001b[39mrandom\u001b[38;5;241m.\u001b[39mrand( \u001b[38;5;28mself\u001b[39m\u001b[38;5;241m.\u001b[39mn\u001b[38;5;241m+\u001b[39m\u001b[38;5;241m1\u001b[39m,\u001b[38;5;28mself\u001b[39m\u001b[38;5;241m.\u001b[39mhl\u001b[38;5;241m+\u001b[39m\u001b[38;5;241m1\u001b[39m)\n\u001b[0;32m     53\u001b[0m \u001b[38;5;28mself\u001b[39m\u001b[38;5;241m.\u001b[39mTheta2\u001b[38;5;241m=\u001b[39mnp\u001b[38;5;241m.\u001b[39mrandom\u001b[38;5;241m.\u001b[39mrand(\u001b[38;5;28mself\u001b[39m\u001b[38;5;241m.\u001b[39mnc,\u001b[38;5;28mself\u001b[39m\u001b[38;5;241m.\u001b[39mhl\u001b[38;5;241m+\u001b[39m\u001b[38;5;241m1\u001b[39m)\n\u001b[1;32m---> 56\u001b[0m \u001b[38;5;28mself\u001b[39m\u001b[38;5;241m.\u001b[39mgradient_descent()\n",
      "Cell \u001b[1;32mIn[30], line 42\u001b[0m, in \u001b[0;36mModel.gradient_descent\u001b[1;34m(self)\u001b[0m\n\u001b[0;32m     40\u001b[0m \u001b[38;5;28;01mdef\u001b[39;00m \u001b[38;5;21mgradient_descent\u001b[39m(\u001b[38;5;28mself\u001b[39m):\n\u001b[0;32m     41\u001b[0m     \u001b[38;5;28;01mfor\u001b[39;00m i \u001b[38;5;129;01min\u001b[39;00m \u001b[38;5;28mrange\u001b[39m(\u001b[38;5;28mself\u001b[39m\u001b[38;5;241m.\u001b[39mniter):\n\u001b[1;32m---> 42\u001b[0m         \u001b[38;5;28mself\u001b[39m\u001b[38;5;241m.\u001b[39mhyp()\n\u001b[0;32m     43\u001b[0m         \u001b[38;5;28mself\u001b[39m\u001b[38;5;241m.\u001b[39mcost()\n\u001b[0;32m     44\u001b[0m         \u001b[38;5;28mself\u001b[39m\u001b[38;5;241m.\u001b[39mcomputeGradient()\n",
      "Cell \u001b[1;32mIn[30], line 21\u001b[0m, in \u001b[0;36mModel.hyp\u001b[1;34m(self)\u001b[0m\n\u001b[0;32m     18\u001b[0m \u001b[38;5;28;01mdef\u001b[39;00m \u001b[38;5;21mhyp\u001b[39m(\u001b[38;5;28mself\u001b[39m):\n\u001b[0;32m     19\u001b[0m     \u001b[38;5;66;03m#lAYER1 X\u001b[39;00m\n\u001b[0;32m     20\u001b[0m     \u001b[38;5;28mself\u001b[39m\u001b[38;5;241m.\u001b[39mX\u001b[38;5;241m=\u001b[39mnp\u001b[38;5;241m.\u001b[39mconcatenate((np\u001b[38;5;241m.\u001b[39mones([\u001b[38;5;28mself\u001b[39m\u001b[38;5;241m.\u001b[39mm,\u001b[38;5;241m1\u001b[39m]), \u001b[38;5;28mself\u001b[39m\u001b[38;5;241m.\u001b[39mX), axis\u001b[38;5;241m=\u001b[39m\u001b[38;5;241m1\u001b[39m)\n\u001b[1;32m---> 21\u001b[0m     \u001b[38;5;28mself\u001b[39m\u001b[38;5;241m.\u001b[39mz1\u001b[38;5;241m=\u001b[39m\u001b[38;5;28mself\u001b[39m\u001b[38;5;241m.\u001b[39mX \u001b[38;5;241m@\u001b[39m \u001b[38;5;28mself\u001b[39m\u001b[38;5;241m.\u001b[39mTheta1\u001b[38;5;241m.\u001b[39mT\n\u001b[0;32m     22\u001b[0m     \u001b[38;5;28mself\u001b[39m\u001b[38;5;241m.\u001b[39ma1\u001b[38;5;241m=\u001b[39m\u001b[38;5;28mself\u001b[39m\u001b[38;5;241m.\u001b[39msigmoid(\u001b[38;5;28mself\u001b[39m\u001b[38;5;241m.\u001b[39mz1)\n\u001b[0;32m     23\u001b[0m     \u001b[38;5;28mself\u001b[39m\u001b[38;5;241m.\u001b[39ma1\u001b[38;5;241m=\u001b[39mnp\u001b[38;5;241m.\u001b[39mconcatenate((np\u001b[38;5;241m.\u001b[39mones([\u001b[38;5;28mself\u001b[39m\u001b[38;5;241m.\u001b[39mm,\u001b[38;5;241m1\u001b[39m]), \u001b[38;5;28mself\u001b[39m\u001b[38;5;241m.\u001b[39ma1), axis\u001b[38;5;241m=\u001b[39m\u001b[38;5;241m1\u001b[39m)\n",
      "\u001b[1;31mValueError\u001b[0m: matmul: Input operand 1 has a mismatch in its core dimension 0, with gufunc signature (n?,k),(k,m?)->(n?,m?) (size 4 is different from 5)"
     ]
    }
   ],
   "source": [
    "X= np.array([[1,5,7,8],\n",
    "            [7,8,7,9],\n",
    "           [8,2,6,8],\n",
    "            [9,3,5,5],\n",
    "            [2,4,1,5]\n",
    "            ])\n",
    "m,n=X.shape\n",
    "hl=3\n",
    "nc=3\n",
    "y=np.array([[1,0,0],\n",
    "           [0,1,0],\n",
    "           [0,1,0],\n",
    "           [0,0,1],\n",
    "           [1,0,0]])\n",
    "\n",
    "# one=np.ones([m,1])\n",
    "# np.concatenate((np.ones([m,1]), X), axis=1)\n",
    "# np.random.rand(7,6)\n",
    "m=Model(X,y,hl,0.01,100,0,3)\n",
    "m.train()"
   ]
  }
 ],
 "metadata": {
  "kernelspec": {
   "display_name": "Python 3 (ipykernel)",
   "language": "python",
   "name": "python3"
  },
  "language_info": {
   "codemirror_mode": {
    "name": "ipython",
    "version": 3
   },
   "file_extension": ".py",
   "mimetype": "text/x-python",
   "name": "python",
   "nbconvert_exporter": "python",
   "pygments_lexer": "ipython3",
   "version": "3.11.3"
  }
 },
 "nbformat": 4,
 "nbformat_minor": 5
}
