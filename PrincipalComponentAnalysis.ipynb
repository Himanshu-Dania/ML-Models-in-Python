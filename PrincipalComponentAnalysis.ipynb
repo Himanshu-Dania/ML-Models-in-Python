{
 "cells": [
  {
   "cell_type": "code",
   "execution_count": 2,
   "id": "48d7efd4",
   "metadata": {},
   "outputs": [],
   "source": [
    "import numpy as np"
   ]
  },
  {
   "cell_type": "code",
   "execution_count": 66,
   "id": "9570bf5c",
   "metadata": {},
   "outputs": [],
   "source": [
    "class PCA:\n",
    "    def __init__(self,X,k):\n",
    "        self.X=X\n",
    "        self.k=k\n",
    "        self.m, self.n = X.shape\n",
    "        \n",
    "    def Normalize(self):\n",
    "        mu= np.sum(self.X,axis=0)/self.m\n",
    "        self.X=(self.X-mu)\n",
    "        sigma= np.sqrt(np.sum(np.square(self.X), axis=0)/(self.m-1))\n",
    "        self.X=(self.X)/sigma\n",
    "        return self.X, mu, sigma\n",
    "    \n",
    "    def svd(self):\n",
    "        cov=np.dot(self.X.T,self.X)/self.m\n",
    "        U, S, V = np.linalg.svd(cov)\n",
    "        self.U=U[:, :self.k]\n",
    "        self.var= np.sum(S[:self.k])/np.sum(S)\n",
    "        self.S=np.diag(S)\n",
    "        return self.U,self.S,self.var\n",
    "    \n",
    "    def ProjectData(self):\n",
    "        self.Xk=np.dot(self.X, self.U)\n",
    "        return self.Xk\n",
    "    def RecoverData(self):\n",
    "        self.Xr= np.dot(self.Xk, self.U.T)\n",
    "        return self.Xr\n",
    "    def Run(self):\n",
    "        Xnorm, mu, sigma=self.Normalize()\n",
    "        U,S,var=self.svd()\n",
    "        Xk=self.ProjectData()\n",
    "        Xr=self.RecoverData()\n",
    "\n",
    "        print(f\"{Xnorm}\\n{mu}\\n{sigma}\\n{U}\\n{S}\\n{Xk}\\n{Xr}\\n{var}\")"
   ]
  },
  {
   "cell_type": "code",
   "execution_count": 68,
   "id": "8bfa119f",
   "metadata": {},
   "outputs": [
    {
     "name": "stdout",
     "output_type": "stream",
     "text": [
      "[[-0.66033818 -1.05021006 -0.28867513  0.18898224]\n",
      " [-0.13206764  0.63012604 -0.8660254  -0.94491118]\n",
      " [-0.66033818 -0.63012604 -0.28867513 -0.56694671]\n",
      " [ 1.452744    1.05021006  1.44337567  1.32287566]]\n",
      "[3.5 4.5 5.5 5.5]\n",
      "[3.7859389  2.38047614 1.73205081 2.64575131]\n",
      "[[-0.55254033 -0.21776311  0.10119969]\n",
      " [-0.41178267 -0.75614634  0.08261895]\n",
      " [-0.53199533  0.32795584 -0.75900764]\n",
      " [-0.49205202  0.52274937  0.63784021]]\n",
      "[[2.36070416e+00 0.00000000e+00 0.00000000e+00 0.00000000e+00]\n",
      " [0.00000000e+00 6.11301688e-01 0.00000000e+00 0.00000000e+00]\n",
      " [0.00000000e+00 0.00000000e+00 2.79941505e-02 0.00000000e+00]\n",
      " [0.00000000e+00 0.00000000e+00 0.00000000e+00 2.12498565e-16]]\n",
      "[[ 0.85790651  0.94202744  0.18605383]\n",
      " [ 0.73916464 -1.22567785  0.09331271]\n",
      " [ 1.05687955  0.22922106 -0.26140114]\n",
      " [-2.6539507   0.05442935 -0.0179654 ]]\n",
      "[[-0.66033818 -1.05021006 -0.28867513  0.18898224]\n",
      " [-0.13206764  0.63012604 -0.8660254  -0.94491118]\n",
      " [-0.66033818 -0.63012604 -0.28867513 -0.56694671]\n",
      " [ 1.452744    1.05021006  1.44337567  1.32287566]]\n",
      "1.0\n"
     ]
    }
   ],
   "source": [
    "X=np.array([[1,2,5,6],[3,6,4,3],[1,3,5,4], [9,7,8,9]])\n",
    "m=PCA(X,3)\n",
    "# Xn, mu,sigma = m.Normalize()\n",
    "# X,Xn, mu,sigma\n",
    "# cov=np.dot(X.T,X)/3\n",
    "# U, S, V = np.linalg.svd(cov)\n",
    "# cov,U,np.diag(S),V\n",
    "# np.dot(np.dot(X,U[:,:1]), U[:,:1].T)\n",
    "m.Run()"
   ]
  }
 ],
 "metadata": {
  "kernelspec": {
   "display_name": "Python 3 (ipykernel)",
   "language": "python",
   "name": "python3"
  },
  "language_info": {
   "codemirror_mode": {
    "name": "ipython",
    "version": 3
   },
   "file_extension": ".py",
   "mimetype": "text/x-python",
   "name": "python",
   "nbconvert_exporter": "python",
   "pygments_lexer": "ipython3",
   "version": "3.11.3"
  }
 },
 "nbformat": 4,
 "nbformat_minor": 5
}
